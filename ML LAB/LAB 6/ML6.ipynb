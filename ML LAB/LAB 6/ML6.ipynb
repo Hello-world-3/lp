{
 "cells": [
  {
   "cell_type": "code",
   "execution_count": 1,
   "id": "cc897de7",
   "metadata": {
    "papermill": {
     "duration": 0.025665,
     "end_time": "2022-11-14T18:05:35.589107",
     "exception": false,
     "start_time": "2022-11-14T18:05:35.563442",
     "status": "completed"
    },
    "tags": []
   },
   "outputs": [
    {
     "ename": "IndentationError",
     "evalue": "unexpected indent (3356492338.py, line 7)",
     "output_type": "error",
     "traceback": [
      "\u001b[1;36m  Cell \u001b[1;32mIn[1], line 7\u001b[1;36m\u001b[0m\n\u001b[1;33m    for filename in filenames:\u001b[0m\n\u001b[1;37m    ^\u001b[0m\n\u001b[1;31mIndentationError\u001b[0m\u001b[1;31m:\u001b[0m unexpected indent\n"
     ]
    }
   ],
   "source": [
    "import numpy as np # linear algebra\n",
    "import pandas as pd # data processing, CSV file I/O (e.g. pd.read_csv)\n",
    "\n",
    "\n",
    "import os\n",
    "for dirname, _, filenames in os.walk('/kaggle/input'):0\n",
    "    for filename in filenames:\n",
    "        print(os.path.join(dirname, filename))\n"
   ]
  },
  {
   "cell_type": "code",
   "execution_count": 3,
   "id": "0260efc0",
   "metadata": {
    "papermill": {
     "duration": 12.848259,
     "end_time": "2022-11-14T18:05:48.442597",
     "exception": false,
     "start_time": "2022-11-14T18:05:35.594338",
     "status": "completed"
    },
    "tags": []
   },
   "outputs": [
    {
     "name": "stdout",
     "output_type": "stream",
     "text": [
      "Collecting mlxtend\n",
      "  Downloading mlxtend-0.23.2-py3-none-any.whl.metadata (7.3 kB)\n",
      "Requirement already satisfied: scipy>=1.2.1 in c:\\users\\fahee\\anaconda3\\lib\\site-packages (from mlxtend) (1.13.1)\n",
      "Requirement already satisfied: numpy>=1.16.2 in c:\\users\\fahee\\anaconda3\\lib\\site-packages (from mlxtend) (1.26.4)\n",
      "Requirement already satisfied: pandas>=0.24.2 in c:\\users\\fahee\\anaconda3\\lib\\site-packages (from mlxtend) (2.2.2)\n",
      "Requirement already satisfied: scikit-learn>=1.3.1 in c:\\users\\fahee\\anaconda3\\lib\\site-packages (from mlxtend) (1.5.1)\n",
      "Requirement already satisfied: matplotlib>=3.0.0 in c:\\users\\fahee\\anaconda3\\lib\\site-packages (from mlxtend) (3.9.2)\n",
      "Requirement already satisfied: joblib>=0.13.2 in c:\\users\\fahee\\anaconda3\\lib\\site-packages (from mlxtend) (1.4.2)\n",
      "Requirement already satisfied: contourpy>=1.0.1 in c:\\users\\fahee\\anaconda3\\lib\\site-packages (from matplotlib>=3.0.0->mlxtend) (1.2.0)\n",
      "Requirement already satisfied: cycler>=0.10 in c:\\users\\fahee\\anaconda3\\lib\\site-packages (from matplotlib>=3.0.0->mlxtend) (0.11.0)\n",
      "Requirement already satisfied: fonttools>=4.22.0 in c:\\users\\fahee\\anaconda3\\lib\\site-packages (from matplotlib>=3.0.0->mlxtend) (4.51.0)\n",
      "Requirement already satisfied: kiwisolver>=1.3.1 in c:\\users\\fahee\\anaconda3\\lib\\site-packages (from matplotlib>=3.0.0->mlxtend) (1.4.4)\n",
      "Requirement already satisfied: packaging>=20.0 in c:\\users\\fahee\\anaconda3\\lib\\site-packages (from matplotlib>=3.0.0->mlxtend) (24.1)\n",
      "Requirement already satisfied: pillow>=8 in c:\\users\\fahee\\anaconda3\\lib\\site-packages (from matplotlib>=3.0.0->mlxtend) (10.4.0)\n",
      "Requirement already satisfied: pyparsing>=2.3.1 in c:\\users\\fahee\\anaconda3\\lib\\site-packages (from matplotlib>=3.0.0->mlxtend) (3.1.2)\n",
      "Requirement already satisfied: python-dateutil>=2.7 in c:\\users\\fahee\\anaconda3\\lib\\site-packages (from matplotlib>=3.0.0->mlxtend) (2.9.0.post0)\n",
      "Requirement already satisfied: pytz>=2020.1 in c:\\users\\fahee\\anaconda3\\lib\\site-packages (from pandas>=0.24.2->mlxtend) (2024.1)\n",
      "Requirement already satisfied: tzdata>=2022.7 in c:\\users\\fahee\\anaconda3\\lib\\site-packages (from pandas>=0.24.2->mlxtend) (2023.3)\n",
      "Requirement already satisfied: threadpoolctl>=3.1.0 in c:\\users\\fahee\\anaconda3\\lib\\site-packages (from scikit-learn>=1.3.1->mlxtend) (3.5.0)\n",
      "Requirement already satisfied: six>=1.5 in c:\\users\\fahee\\anaconda3\\lib\\site-packages (from python-dateutil>=2.7->matplotlib>=3.0.0->mlxtend) (1.16.0)\n",
      "Downloading mlxtend-0.23.2-py3-none-any.whl (1.4 MB)\n",
      "   ---------------------------------------- 0.0/1.4 MB ? eta -:--:--\n",
      "   ---------------------------------------- 1.4/1.4 MB 11.7 MB/s eta 0:00:00\n",
      "Installing collected packages: mlxtend\n",
      "Successfully installed mlxtend-0.23.2\n"
     ]
    }
   ],
   "source": [
    "!pip install mlxtend"
   ]
  },
  {
   "cell_type": "code",
   "execution_count": 4,
   "id": "d8a38e80",
   "metadata": {
    "papermill": {
     "duration": 1.057482,
     "end_time": "2022-11-14T18:05:49.505732",
     "exception": false,
     "start_time": "2022-11-14T18:05:48.448250",
     "status": "completed"
    },
    "tags": []
   },
   "outputs": [],
   "source": [
    "import csv\n",
    "from mlxtend.preprocessing import TransactionEncoder\n",
    "from mlxtend.frequent_patterns import apriori, association_rules"
   ]
  },
  {
   "cell_type": "code",
   "execution_count": 5,
   "id": "21cdb070",
   "metadata": {
    "papermill": {
     "duration": 0.035997,
     "end_time": "2022-11-14T18:05:49.547196",
     "exception": false,
     "start_time": "2022-11-14T18:05:49.511199",
     "status": "completed"
    },
    "tags": []
   },
   "outputs": [],
   "source": [
    "data = []\n",
    "with open('Market_Basket_Optimisation.csv') as file:\n",
    "    reader = csv.reader(file, delimiter=',')\n",
    "    for row in reader:\n",
    "        data +=[row]"
   ]
  },
  {
   "cell_type": "code",
   "execution_count": 6,
   "id": "2760ca7d",
   "metadata": {
    "papermill": {
     "duration": 0.019999,
     "end_time": "2022-11-14T18:05:49.572701",
     "exception": false,
     "start_time": "2022-11-14T18:05:49.552702",
     "status": "completed"
    },
    "tags": []
   },
   "outputs": [
    {
     "data": {
      "text/plain": [
       "[['burgers', 'meatballs', 'eggs'],\n",
       " ['chutney'],\n",
       " ['turkey', 'avocado'],\n",
       " ['mineral water', 'milk', 'energy bar', 'whole wheat rice', 'green tea'],\n",
       " ['low fat yogurt'],\n",
       " ['whole wheat pasta', 'french fries'],\n",
       " ['soup', 'light cream', 'shallot'],\n",
       " ['frozen vegetables', 'spaghetti', 'green tea'],\n",
       " ['french fries']]"
      ]
     },
     "execution_count": 6,
     "metadata": {},
     "output_type": "execute_result"
    }
   ],
   "source": [
    "data[1:10] #list of list"
   ]
  },
  {
   "cell_type": "code",
   "execution_count": 11,
   "id": "9f54b6d8",
   "metadata": {
    "papermill": {
     "duration": 0.016881,
     "end_time": "2022-11-14T18:05:49.594930",
     "exception": false,
     "start_time": "2022-11-14T18:05:49.578049",
     "status": "completed"
    },
    "tags": []
   },
   "outputs": [
    {
     "data": {
      "text/plain": [
       "7501"
      ]
     },
     "execution_count": 11,
     "metadata": {},
     "output_type": "execute_result"
    }
   ],
   "source": [
    "len(data)"
   ]
  },
  {
   "cell_type": "code",
   "execution_count": 13,
   "id": "9ea93930",
   "metadata": {
    "papermill": {
     "duration": 0.031349,
     "end_time": "2022-11-14T18:05:49.631880",
     "exception": false,
     "start_time": "2022-11-14T18:05:49.600531",
     "status": "completed"
    },
    "tags": []
   },
   "outputs": [],
   "source": [
    "te = TransactionEncoder()\n",
    "x = te.fit_transform(data)"
   ]
  },
  {
   "cell_type": "code",
   "execution_count": 15,
   "id": "f6531c93",
   "metadata": {
    "papermill": {
     "duration": 0.017719,
     "end_time": "2022-11-14T18:05:49.655227",
     "exception": false,
     "start_time": "2022-11-14T18:05:49.637508",
     "status": "completed"
    },
    "tags": []
   },
   "outputs": [
    {
     "data": {
      "text/plain": [
       "array([[False,  True,  True, ...,  True, False, False],\n",
       "       [False, False, False, ..., False, False, False],\n",
       "       [False, False, False, ..., False, False, False],\n",
       "       ...,\n",
       "       [False, False, False, ..., False, False, False],\n",
       "       [False, False, False, ..., False, False, False],\n",
       "       [False, False, False, ..., False,  True, False]])"
      ]
     },
     "execution_count": 15,
     "metadata": {},
     "output_type": "execute_result"
    }
   ],
   "source": [
    "x"
   ]
  },
  {
   "cell_type": "code",
   "execution_count": 17,
   "id": "0bce381d",
   "metadata": {
    "papermill": {
     "duration": 0.018923,
     "end_time": "2022-11-14T18:05:49.679812",
     "exception": false,
     "start_time": "2022-11-14T18:05:49.660889",
     "status": "completed"
    },
    "tags": []
   },
   "outputs": [
    {
     "data": {
      "text/plain": [
       "[' asparagus',\n",
       " 'almonds',\n",
       " 'antioxydant juice',\n",
       " 'asparagus',\n",
       " 'avocado',\n",
       " 'babies food',\n",
       " 'bacon',\n",
       " 'barbecue sauce',\n",
       " 'black tea',\n",
       " 'blueberries',\n",
       " 'body spray',\n",
       " 'bramble',\n",
       " 'brownies',\n",
       " 'bug spray',\n",
       " 'burger sauce',\n",
       " 'burgers',\n",
       " 'butter',\n",
       " 'cake',\n",
       " 'candy bars',\n",
       " 'carrots',\n",
       " 'cauliflower',\n",
       " 'cereals',\n",
       " 'champagne',\n",
       " 'chicken',\n",
       " 'chili',\n",
       " 'chocolate',\n",
       " 'chocolate bread',\n",
       " 'chutney',\n",
       " 'cider',\n",
       " 'clothes accessories',\n",
       " 'cookies',\n",
       " 'cooking oil',\n",
       " 'corn',\n",
       " 'cottage cheese',\n",
       " 'cream',\n",
       " 'dessert wine',\n",
       " 'eggplant',\n",
       " 'eggs',\n",
       " 'energy bar',\n",
       " 'energy drink',\n",
       " 'escalope',\n",
       " 'extra dark chocolate',\n",
       " 'flax seed',\n",
       " 'french fries',\n",
       " 'french wine',\n",
       " 'fresh bread',\n",
       " 'fresh tuna',\n",
       " 'fromage blanc',\n",
       " 'frozen smoothie',\n",
       " 'frozen vegetables',\n",
       " 'gluten free bar',\n",
       " 'grated cheese',\n",
       " 'green beans',\n",
       " 'green grapes',\n",
       " 'green tea',\n",
       " 'ground beef',\n",
       " 'gums',\n",
       " 'ham',\n",
       " 'hand protein bar',\n",
       " 'herb & pepper',\n",
       " 'honey',\n",
       " 'hot dogs',\n",
       " 'ketchup',\n",
       " 'light cream',\n",
       " 'light mayo',\n",
       " 'low fat yogurt',\n",
       " 'magazines',\n",
       " 'mashed potato',\n",
       " 'mayonnaise',\n",
       " 'meatballs',\n",
       " 'melons',\n",
       " 'milk',\n",
       " 'mineral water',\n",
       " 'mint',\n",
       " 'mint green tea',\n",
       " 'muffins',\n",
       " 'mushroom cream sauce',\n",
       " 'napkins',\n",
       " 'nonfat milk',\n",
       " 'oatmeal',\n",
       " 'oil',\n",
       " 'olive oil',\n",
       " 'pancakes',\n",
       " 'parmesan cheese',\n",
       " 'pasta',\n",
       " 'pepper',\n",
       " 'pet food',\n",
       " 'pickles',\n",
       " 'protein bar',\n",
       " 'red wine',\n",
       " 'rice',\n",
       " 'salad',\n",
       " 'salmon',\n",
       " 'salt',\n",
       " 'sandwich',\n",
       " 'shallot',\n",
       " 'shampoo',\n",
       " 'shrimp',\n",
       " 'soda',\n",
       " 'soup',\n",
       " 'spaghetti',\n",
       " 'sparkling water',\n",
       " 'spinach',\n",
       " 'strawberries',\n",
       " 'strong cheese',\n",
       " 'tea',\n",
       " 'tomato juice',\n",
       " 'tomato sauce',\n",
       " 'tomatoes',\n",
       " 'toothpaste',\n",
       " 'turkey',\n",
       " 'vegetables mix',\n",
       " 'water spray',\n",
       " 'white wine',\n",
       " 'whole weat flour',\n",
       " 'whole wheat pasta',\n",
       " 'whole wheat rice',\n",
       " 'yams',\n",
       " 'yogurt cake',\n",
       " 'zucchini']"
      ]
     },
     "execution_count": 17,
     "metadata": {},
     "output_type": "execute_result"
    }
   ],
   "source": [
    "te.columns_"
   ]
  },
  {
   "cell_type": "code",
   "execution_count": 21,
   "id": "9e10b1c0",
   "metadata": {
    "papermill": {
     "duration": 0.018651,
     "end_time": "2022-11-14T18:05:49.704377",
     "exception": false,
     "start_time": "2022-11-14T18:05:49.685726",
     "status": "completed"
    },
    "tags": []
   },
   "outputs": [
    {
     "name": "stderr",
     "output_type": "stream",
     "text": [
      "C:\\Users\\fahee\\anaconda3\\Lib\\site-packages\\executing\\executing.py:713: DeprecationWarning: ast.Str is deprecated and will be removed in Python 3.14; use ast.Constant instead\n",
      "  right=ast.Str(s=sentinel),\n",
      "C:\\Users\\fahee\\anaconda3\\Lib\\ast.py:587: DeprecationWarning: Attribute s is deprecated and will be removed in Python 3.14; use value instead\n",
      "  return Constant(*args, **kwargs)\n",
      "C:\\Users\\fahee\\anaconda3\\Lib\\site-packages\\executing\\executing.py:713: DeprecationWarning: ast.Str is deprecated and will be removed in Python 3.14; use ast.Constant instead\n",
      "  right=ast.Str(s=sentinel),\n",
      "C:\\Users\\fahee\\anaconda3\\Lib\\ast.py:587: DeprecationWarning: Attribute s is deprecated and will be removed in Python 3.14; use value instead\n",
      "  return Constant(*args, **kwargs)\n"
     ]
    },
    {
     "ename": "NameError",
     "evalue": "name 'pd' is not defined",
     "output_type": "error",
     "traceback": [
      "\u001b[1;31m---------------------------------------------------------------------------\u001b[0m",
      "\u001b[1;31mNameError\u001b[0m                                 Traceback (most recent call last)",
      "Cell \u001b[1;32mIn[21], line 1\u001b[0m\n\u001b[1;32m----> 1\u001b[0m df \u001b[38;5;241m=\u001b[39m pd\u001b[38;5;241m.\u001b[39mDataFrame(x, columns\u001b[38;5;241m=\u001b[39mte\u001b[38;5;241m.\u001b[39mcolumns_)\n",
      "\u001b[1;31mNameError\u001b[0m: name 'pd' is not defined"
     ]
    }
   ],
   "source": [
    "df = pd.DataFrame(x, columns=te.columns_)"
   ]
  },
  {
   "cell_type": "code",
   "execution_count": 23,
   "id": "cb62ea4d",
   "metadata": {
    "papermill": {
     "duration": 0.048912,
     "end_time": "2022-11-14T18:05:49.760179",
     "exception": false,
     "start_time": "2022-11-14T18:05:49.711267",
     "status": "completed"
    },
    "tags": []
   },
   "outputs": [
    {
     "name": "stderr",
     "output_type": "stream",
     "text": [
      "C:\\Users\\fahee\\anaconda3\\Lib\\site-packages\\executing\\executing.py:713: DeprecationWarning: ast.Str is deprecated and will be removed in Python 3.14; use ast.Constant instead\n",
      "  right=ast.Str(s=sentinel),\n",
      "C:\\Users\\fahee\\anaconda3\\Lib\\ast.py:587: DeprecationWarning: Attribute s is deprecated and will be removed in Python 3.14; use value instead\n",
      "  return Constant(*args, **kwargs)\n",
      "C:\\Users\\fahee\\anaconda3\\Lib\\site-packages\\executing\\executing.py:713: DeprecationWarning: ast.Str is deprecated and will be removed in Python 3.14; use ast.Constant instead\n",
      "  right=ast.Str(s=sentinel),\n",
      "C:\\Users\\fahee\\anaconda3\\Lib\\ast.py:587: DeprecationWarning: Attribute s is deprecated and will be removed in Python 3.14; use value instead\n",
      "  return Constant(*args, **kwargs)\n"
     ]
    },
    {
     "ename": "NameError",
     "evalue": "name 'df' is not defined",
     "output_type": "error",
     "traceback": [
      "\u001b[1;31m---------------------------------------------------------------------------\u001b[0m",
      "\u001b[1;31mNameError\u001b[0m                                 Traceback (most recent call last)",
      "Cell \u001b[1;32mIn[23], line 1\u001b[0m\n\u001b[1;32m----> 1\u001b[0m df\n",
      "\u001b[1;31mNameError\u001b[0m: name 'df' is not defined"
     ]
    }
   ],
   "source": [
    "df"
   ]
  },
  {
   "cell_type": "code",
   "execution_count": 25,
   "id": "25e5421e",
   "metadata": {
    "papermill": {
     "duration": 0.273925,
     "end_time": "2022-11-14T18:05:50.040836",
     "exception": false,
     "start_time": "2022-11-14T18:05:49.766911",
     "status": "completed"
    },
    "scrolled": true,
    "tags": []
   },
   "outputs": [
    {
     "name": "stderr",
     "output_type": "stream",
     "text": [
      "C:\\Users\\fahee\\anaconda3\\Lib\\site-packages\\executing\\executing.py:713: DeprecationWarning: ast.Str is deprecated and will be removed in Python 3.14; use ast.Constant instead\n",
      "  right=ast.Str(s=sentinel),\n",
      "C:\\Users\\fahee\\anaconda3\\Lib\\ast.py:587: DeprecationWarning: Attribute s is deprecated and will be removed in Python 3.14; use value instead\n",
      "  return Constant(*args, **kwargs)\n",
      "C:\\Users\\fahee\\anaconda3\\Lib\\site-packages\\executing\\executing.py:713: DeprecationWarning: ast.Str is deprecated and will be removed in Python 3.14; use ast.Constant instead\n",
      "  right=ast.Str(s=sentinel),\n",
      "C:\\Users\\fahee\\anaconda3\\Lib\\ast.py:587: DeprecationWarning: Attribute s is deprecated and will be removed in Python 3.14; use value instead\n",
      "  return Constant(*args, **kwargs)\n"
     ]
    },
    {
     "ename": "NameError",
     "evalue": "name 'df' is not defined",
     "output_type": "error",
     "traceback": [
      "\u001b[1;31m---------------------------------------------------------------------------\u001b[0m",
      "\u001b[1;31mNameError\u001b[0m                                 Traceback (most recent call last)",
      "Cell \u001b[1;32mIn[25], line 2\u001b[0m\n\u001b[0;32m      1\u001b[0m \u001b[38;5;66;03m# Finding frequent itemsets\u001b[39;00m\n\u001b[1;32m----> 2\u001b[0m freq_itemset \u001b[38;5;241m=\u001b[39m apriori(df, min_support\u001b[38;5;241m=\u001b[39m\u001b[38;5;241m0.01\u001b[39m, use_colnames\u001b[38;5;241m=\u001b[39m\u001b[38;5;28;01mTrue\u001b[39;00m)\n",
      "\u001b[1;31mNameError\u001b[0m: name 'df' is not defined"
     ]
    }
   ],
   "source": [
    "# Finding frequent itemsets\n",
    "freq_itemset = apriori(df, min_support=0.01, use_colnames=True)"
   ]
  },
  {
   "cell_type": "markdown",
   "id": "06a1be33",
   "metadata": {
    "papermill": {
     "duration": 0.007232,
     "end_time": "2022-11-14T18:05:50.054789",
     "exception": false,
     "start_time": "2022-11-14T18:05:50.047557",
     "status": "completed"
    },
    "tags": []
   },
   "source": [
    "0.01 means 1% of data size(7501) is 75. so single item should come atleast 75 times then take those items in freq_itemset"
   ]
  },
  {
   "cell_type": "code",
   "execution_count": 67,
   "id": "da7a6b63",
   "metadata": {
    "papermill": {
     "duration": 0.028146,
     "end_time": "2022-11-14T18:05:50.089295",
     "exception": false,
     "start_time": "2022-11-14T18:05:50.061149",
     "status": "completed"
    },
    "tags": []
   },
   "outputs": [
    {
     "data": {
      "text/html": [
       "<div>\n",
       "<style scoped>\n",
       "    .dataframe tbody tr th:only-of-type {\n",
       "        vertical-align: middle;\n",
       "    }\n",
       "\n",
       "    .dataframe tbody tr th {\n",
       "        vertical-align: top;\n",
       "    }\n",
       "\n",
       "    .dataframe thead th {\n",
       "        text-align: right;\n",
       "    }\n",
       "</style>\n",
       "<table border=\"1\" class=\"dataframe\">\n",
       "  <thead>\n",
       "    <tr style=\"text-align: right;\">\n",
       "      <th></th>\n",
       "      <th>support</th>\n",
       "      <th>itemsets</th>\n",
       "    </tr>\n",
       "  </thead>\n",
       "  <tbody>\n",
       "    <tr>\n",
       "      <th>0</th>\n",
       "      <td>0.020397</td>\n",
       "      <td>(almonds)</td>\n",
       "    </tr>\n",
       "    <tr>\n",
       "      <th>1</th>\n",
       "      <td>0.033329</td>\n",
       "      <td>(avocado)</td>\n",
       "    </tr>\n",
       "    <tr>\n",
       "      <th>2</th>\n",
       "      <td>0.010799</td>\n",
       "      <td>(barbecue sauce)</td>\n",
       "    </tr>\n",
       "    <tr>\n",
       "      <th>3</th>\n",
       "      <td>0.014265</td>\n",
       "      <td>(black tea)</td>\n",
       "    </tr>\n",
       "    <tr>\n",
       "      <th>4</th>\n",
       "      <td>0.011465</td>\n",
       "      <td>(body spray)</td>\n",
       "    </tr>\n",
       "    <tr>\n",
       "      <th>...</th>\n",
       "      <td>...</td>\n",
       "      <td>...</td>\n",
       "    </tr>\n",
       "    <tr>\n",
       "      <th>252</th>\n",
       "      <td>0.011065</td>\n",
       "      <td>(milk, ground beef, mineral water)</td>\n",
       "    </tr>\n",
       "    <tr>\n",
       "      <th>253</th>\n",
       "      <td>0.017064</td>\n",
       "      <td>(ground beef, spaghetti, mineral water)</td>\n",
       "    </tr>\n",
       "    <tr>\n",
       "      <th>254</th>\n",
       "      <td>0.015731</td>\n",
       "      <td>(milk, spaghetti, mineral water)</td>\n",
       "    </tr>\n",
       "    <tr>\n",
       "      <th>255</th>\n",
       "      <td>0.010265</td>\n",
       "      <td>(spaghetti, mineral water, olive oil)</td>\n",
       "    </tr>\n",
       "    <tr>\n",
       "      <th>256</th>\n",
       "      <td>0.011465</td>\n",
       "      <td>(spaghetti, mineral water, pancakes)</td>\n",
       "    </tr>\n",
       "  </tbody>\n",
       "</table>\n",
       "<p>257 rows × 2 columns</p>\n",
       "</div>"
      ],
      "text/plain": [
       "      support                                 itemsets\n",
       "0    0.020397                                (almonds)\n",
       "1    0.033329                                (avocado)\n",
       "2    0.010799                         (barbecue sauce)\n",
       "3    0.014265                              (black tea)\n",
       "4    0.011465                             (body spray)\n",
       "..        ...                                      ...\n",
       "252  0.011065       (milk, ground beef, mineral water)\n",
       "253  0.017064  (ground beef, spaghetti, mineral water)\n",
       "254  0.015731         (milk, spaghetti, mineral water)\n",
       "255  0.010265    (spaghetti, mineral water, olive oil)\n",
       "256  0.011465     (spaghetti, mineral water, pancakes)\n",
       "\n",
       "[257 rows x 2 columns]"
      ]
     },
     "execution_count": 67,
     "metadata": {},
     "output_type": "execute_result"
    }
   ],
   "source": [
    "freq_itemset"
   ]
  },
  {
   "cell_type": "code",
   "execution_count": 68,
   "id": "47d91417-9a72-4f02-ae3a-3dc9f54121a5",
   "metadata": {},
   "outputs": [],
   "source": [
    "from mlxtend.frequent_patterns import association_rules\n"
   ]
  },
  {
   "cell_type": "code",
   "execution_count": 69,
   "id": "6ca691f1",
   "metadata": {
    "papermill": {
     "duration": 0.022905,
     "end_time": "2022-11-14T18:05:50.119012",
     "exception": false,
     "start_time": "2022-11-14T18:05:50.096107",
     "status": "completed"
    },
    "tags": []
   },
   "outputs": [],
   "source": [
    "rules = association_rules(freq_itemset, metric=\"confidence\", min_threshold=0.10, num_itemsets=10)\n"
   ]
  },
  {
   "cell_type": "code",
   "execution_count": 70,
   "id": "8eb85928",
   "metadata": {
    "papermill": {
     "duration": 0.039138,
     "end_time": "2022-11-14T18:05:50.165764",
     "exception": false,
     "start_time": "2022-11-14T18:05:50.126626",
     "status": "completed"
    },
    "tags": []
   },
   "outputs": [
    {
     "data": {
      "text/html": [
       "<div>\n",
       "<style scoped>\n",
       "    .dataframe tbody tr th:only-of-type {\n",
       "        vertical-align: middle;\n",
       "    }\n",
       "\n",
       "    .dataframe tbody tr th {\n",
       "        vertical-align: top;\n",
       "    }\n",
       "\n",
       "    .dataframe thead th {\n",
       "        text-align: right;\n",
       "    }\n",
       "</style>\n",
       "<table border=\"1\" class=\"dataframe\">\n",
       "  <thead>\n",
       "    <tr style=\"text-align: right;\">\n",
       "      <th></th>\n",
       "      <th>antecedents</th>\n",
       "      <th>consequents</th>\n",
       "      <th>support</th>\n",
       "      <th>confidence</th>\n",
       "    </tr>\n",
       "  </thead>\n",
       "  <tbody>\n",
       "    <tr>\n",
       "      <th>0</th>\n",
       "      <td>(avocado)</td>\n",
       "      <td>(mineral water)</td>\n",
       "      <td>0.011598</td>\n",
       "      <td>0.348000</td>\n",
       "    </tr>\n",
       "    <tr>\n",
       "      <th>1</th>\n",
       "      <td>(burgers)</td>\n",
       "      <td>(cake)</td>\n",
       "      <td>0.011465</td>\n",
       "      <td>0.131498</td>\n",
       "    </tr>\n",
       "    <tr>\n",
       "      <th>2</th>\n",
       "      <td>(cake)</td>\n",
       "      <td>(burgers)</td>\n",
       "      <td>0.011465</td>\n",
       "      <td>0.141447</td>\n",
       "    </tr>\n",
       "    <tr>\n",
       "      <th>3</th>\n",
       "      <td>(burgers)</td>\n",
       "      <td>(chocolate)</td>\n",
       "      <td>0.017064</td>\n",
       "      <td>0.195719</td>\n",
       "    </tr>\n",
       "    <tr>\n",
       "      <th>4</th>\n",
       "      <td>(chocolate)</td>\n",
       "      <td>(burgers)</td>\n",
       "      <td>0.017064</td>\n",
       "      <td>0.104150</td>\n",
       "    </tr>\n",
       "    <tr>\n",
       "      <th>...</th>\n",
       "      <td>...</td>\n",
       "      <td>...</td>\n",
       "      <td>...</td>\n",
       "      <td>...</td>\n",
       "    </tr>\n",
       "    <tr>\n",
       "      <th>315</th>\n",
       "      <td>(olive oil)</td>\n",
       "      <td>(mineral water, spaghetti)</td>\n",
       "      <td>0.010265</td>\n",
       "      <td>0.155870</td>\n",
       "    </tr>\n",
       "    <tr>\n",
       "      <th>316</th>\n",
       "      <td>(mineral water, spaghetti)</td>\n",
       "      <td>(pancakes)</td>\n",
       "      <td>0.011465</td>\n",
       "      <td>0.191964</td>\n",
       "    </tr>\n",
       "    <tr>\n",
       "      <th>317</th>\n",
       "      <td>(spaghetti, pancakes)</td>\n",
       "      <td>(mineral water)</td>\n",
       "      <td>0.011465</td>\n",
       "      <td>0.455026</td>\n",
       "    </tr>\n",
       "    <tr>\n",
       "      <th>318</th>\n",
       "      <td>(mineral water, pancakes)</td>\n",
       "      <td>(spaghetti)</td>\n",
       "      <td>0.011465</td>\n",
       "      <td>0.339921</td>\n",
       "    </tr>\n",
       "    <tr>\n",
       "      <th>319</th>\n",
       "      <td>(pancakes)</td>\n",
       "      <td>(mineral water, spaghetti)</td>\n",
       "      <td>0.011465</td>\n",
       "      <td>0.120617</td>\n",
       "    </tr>\n",
       "  </tbody>\n",
       "</table>\n",
       "<p>320 rows × 4 columns</p>\n",
       "</div>"
      ],
      "text/plain": [
       "                    antecedents                 consequents   support  \\\n",
       "0                     (avocado)             (mineral water)  0.011598   \n",
       "1                     (burgers)                      (cake)  0.011465   \n",
       "2                        (cake)                   (burgers)  0.011465   \n",
       "3                     (burgers)                 (chocolate)  0.017064   \n",
       "4                   (chocolate)                   (burgers)  0.017064   \n",
       "..                          ...                         ...       ...   \n",
       "315                 (olive oil)  (mineral water, spaghetti)  0.010265   \n",
       "316  (mineral water, spaghetti)                  (pancakes)  0.011465   \n",
       "317       (spaghetti, pancakes)             (mineral water)  0.011465   \n",
       "318   (mineral water, pancakes)                 (spaghetti)  0.011465   \n",
       "319                  (pancakes)  (mineral water, spaghetti)  0.011465   \n",
       "\n",
       "     confidence  \n",
       "0      0.348000  \n",
       "1      0.131498  \n",
       "2      0.141447  \n",
       "3      0.195719  \n",
       "4      0.104150  \n",
       "..          ...  \n",
       "315    0.155870  \n",
       "316    0.191964  \n",
       "317    0.455026  \n",
       "318    0.339921  \n",
       "319    0.120617  \n",
       "\n",
       "[320 rows x 4 columns]"
      ]
     },
     "execution_count": 70,
     "metadata": {},
     "output_type": "execute_result"
    }
   ],
   "source": [
    "rules = rules[['antecedents','consequents','support','confidence']]\n",
    "rules"
   ]
  },
  {
   "cell_type": "code",
   "execution_count": 71,
   "id": "fdc68d88",
   "metadata": {
    "papermill": {
     "duration": 0.021706,
     "end_time": "2022-11-14T18:05:50.194344",
     "exception": false,
     "start_time": "2022-11-14T18:05:50.172638",
     "status": "completed"
    },
    "tags": []
   },
   "outputs": [
    {
     "data": {
      "text/plain": [
       "2               (burgers)\n",
       "25            (chocolate)\n",
       "27                 (eggs)\n",
       "29         (french fries)\n",
       "31    (frozen vegetables)\n",
       "33            (green tea)\n",
       "35                 (milk)\n",
       "37        (mineral water)\n",
       "39             (pancakes)\n",
       "41            (spaghetti)\n",
       "Name: consequents, dtype: object"
      ]
     },
     "execution_count": 71,
     "metadata": {},
     "output_type": "execute_result"
    }
   ],
   "source": [
    "rules[rules['antecedents'] == {'cake'}]['consequents']"
   ]
  }
 ],
 "metadata": {
  "kernelspec": {
   "display_name": "Python 3 (ipykernel)",
   "language": "python",
   "name": "python3"
  },
  "language_info": {
   "codemirror_mode": {
    "name": "ipython",
    "version": 3
   },
   "file_extension": ".py",
   "mimetype": "text/x-python",
   "name": "python",
   "nbconvert_exporter": "python",
   "pygments_lexer": "ipython3",
   "version": "3.12.7"
  },
  "papermill": {
   "default_parameters": {},
   "duration": 24.3957,
   "end_time": "2022-11-14T18:05:50.923304",
   "environment_variables": {},
   "exception": null,
   "input_path": "__notebook__.ipynb",
   "output_path": "__notebook__.ipynb",
   "parameters": {},
   "start_time": "2022-11-14T18:05:26.527604",
   "version": "2.3.4"
  }
 },
 "nbformat": 4,
 "nbformat_minor": 5
}
